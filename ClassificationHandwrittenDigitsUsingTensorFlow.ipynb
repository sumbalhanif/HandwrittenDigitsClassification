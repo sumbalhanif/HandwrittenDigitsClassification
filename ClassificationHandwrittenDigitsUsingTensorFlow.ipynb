{
  "nbformat": 4,
  "nbformat_minor": 0,
  "metadata": {
    "colab": {
      "provenance": []
    },
    "kernelspec": {
      "name": "python3",
      "display_name": "Python 3"
    },
    "language_info": {
      "name": "python"
    }
  },
  "cells": [
    {
      "cell_type": "code",
      "source": [
        "#The mnist dataset in TensorFlow (tf.keras.datasets.mnist) is a pre-downloaded dataset provided by the TensorFlow library.\n",
        "#It originates from the National Institute of Standards and Technology (NIST) and is widely used for training and testing\n",
        "#machine learning models, particularly in image classification tasks\n",
        "#The dataset is automatically downloaded from TensorFlow's online storage if it is not already available on your machine.\n",
        "#The data consists of 70,000 grayscale images of handwritten digits (28x28 pixels each) split into:\n",
        "#60,000 training examples\n",
        "#10,000 testing examples"
      ],
      "metadata": {
        "id": "v3wjNX3vAxje"
      },
      "execution_count": null,
      "outputs": []
    },
    {
      "cell_type": "code",
      "execution_count": null,
      "metadata": {
        "id": "VNQU19jc70dQ"
      },
      "outputs": [],
      "source": [
        "import tensorflow as tf\n",
        "import numpy as np\n",
        "import matplotlib.pyplot as plt\n",
        "from tensorflow.keras.datasets import mnist\n"
      ]
    },
    {
      "cell_type": "code",
      "source": [
        "mnist = tf.keras.datasets.mnist\n",
        "(x_train,y_train) , (x_test,y_test) = mnist.load_data()\n",
        "\n",
        "x_train = tf.keras.utils.normalize(x_train,axis=1)\n",
        "x_test = tf.keras.utils.normalize(x_test,axis=1)"
      ],
      "metadata": {
        "id": "3NjlJNDuAfI1"
      },
      "execution_count": null,
      "outputs": []
    },
    {
      "cell_type": "code",
      "source": [
        "def draw(n):\n",
        "    plt.imshow(n,cmap=plt.cm.binary)\n",
        "    plt.show()\n",
        "\n",
        "draw(x_train[0])"
      ],
      "metadata": {
        "colab": {
          "base_uri": "https://localhost:8080/",
          "height": 430
        },
        "id": "IHnHLuys-gO9",
        "outputId": "de2574f4-b404-4ea1-ac6a-b1f54f813c1a"
      },
      "execution_count": null,
      "outputs": [
        {
          "output_type": "display_data",
          "data": {
            "text/plain": [
              "<Figure size 640x480 with 1 Axes>"
            ],
            "image/png": "[encoded data removed]"
          },
          "metadata": {}
        }
      ]
    },
    {
      "cell_type": "code",
      "source": [
        "\n",
        "#MAke a neural network and train\n",
        "model = tf.keras.models.Sequential() # traditional neural network\n",
        "\n",
        "model.add(tf.keras.layers.Flatten(input_shape=(28, 28))) #reshape flat 2D (28*28) pixels into 1D\n",
        "\n",
        "model.add(tf.keras.layers.Dense(128,activation=tf.nn.relu)) #fully connectedlayer 1 with 128 neurons and ReLU activation function\n",
        "model.add(tf.keras.layers.Dense(128,activation=tf.nn.relu)) #layer 2 with 128 neurons\n",
        "model.add(tf.keras.layers.Dense(10,activation='softmax'))\n",
        "#output layer with 10 neurons and softmax is used to convert raw ouput into probabilities and\n",
        "#10 neurons es leay hain kun k (0-9) ki range me digits hain\n",
        "\n",
        "model.compile(optimizer='adam',\n",
        "\t\t\tloss='sparse_categorical_crossentropy',\n",
        "\t\t\tmetrics=['accuracy']\n",
        "\t\t\t)\n",
        "model.fit(x_train,y_train,epochs=10) # train images and y train labels hain (0-9)\n"
      ],
      "metadata": {
        "colab": {
          "base_uri": "https://localhost:8080/"
        },
        "id": "sHmaFEu5CDDz",
        "outputId": "eabe13d9-931e-4526-8685-bc5efd3f5f2c"
      },
      "execution_count": null,
      "outputs": [
        {
          "output_type": "stream",
          "name": "stdout",
          "text": [
            "Epoch 1/10\n",
            "\u001b[1m1875/1875\u001b[0m \u001b[32m━━━━━━━━━━━━━━━━━━━━\u001b[0m\u001b[37m\u001b[0m \u001b[1m10s\u001b[0m 4ms/step - accuracy: 0.8663 - loss: 0.4698\n",
            "Epoch 2/10\n",
            "\u001b[1m1875/1875\u001b[0m \u001b[32m━━━━━━━━━━━━━━━━━━━━\u001b[0m\u001b[37m\u001b[0m \u001b[1m11s\u001b[0m 5ms/step - accuracy: 0.9651 - loss: 0.1135\n",
            "Epoch 3/10\n",
            "\u001b[1m1875/1875\u001b[0m \u001b[32m━━━━━━━━━━━━━━━━━━━━\u001b[0m\u001b[37m\u001b[0m \u001b[1m8s\u001b[0m 4ms/step - accuracy: 0.9778 - loss: 0.0713\n",
            "Epoch 4/10\n",
            "\u001b[1m1875/1875\u001b[0m \u001b[32m━━━━━━━━━━━━━━━━━━━━\u001b[0m\u001b[37m\u001b[0m \u001b[1m9s\u001b[0m 5ms/step - accuracy: 0.9839 - loss: 0.0516\n",
            "Epoch 5/10\n",
            "\u001b[1m1875/1875\u001b[0m \u001b[32m━━━━━━━━━━━━━━━━━━━━\u001b[0m\u001b[37m\u001b[0m \u001b[1m11s\u001b[0m 5ms/step - accuracy: 0.9870 - loss: 0.0390\n",
            "Epoch 6/10\n",
            "\u001b[1m1875/1875\u001b[0m \u001b[32m━━━━━━━━━━━━━━━━━━━━\u001b[0m\u001b[37m\u001b[0m \u001b[1m8s\u001b[0m 4ms/step - accuracy: 0.9900 - loss: 0.0317\n",
            "Epoch 7/10\n",
            "\u001b[1m1875/1875\u001b[0m \u001b[32m━━━━━━━━━━━━━━━━━━━━\u001b[0m\u001b[37m\u001b[0m \u001b[1m10s\u001b[0m 4ms/step - accuracy: 0.9934 - loss: 0.0212\n",
            "Epoch 8/10\n",
            "\u001b[1m1875/1875\u001b[0m \u001b[32m━━━━━━━━━━━━━━━━━━━━\u001b[0m\u001b[37m\u001b[0m \u001b[1m9s\u001b[0m 5ms/step - accuracy: 0.9938 - loss: 0.0182\n",
            "Epoch 9/10\n",
            "\u001b[1m1875/1875\u001b[0m \u001b[32m━━━━━━━━━━━━━━━━━━━━\u001b[0m\u001b[37m\u001b[0m \u001b[1m8s\u001b[0m 4ms/step - accuracy: 0.9953 - loss: 0.0142\n",
            "Epoch 10/10\n",
            "\u001b[1m1875/1875\u001b[0m \u001b[32m━━━━━━━━━━━━━━━━━━━━\u001b[0m\u001b[37m\u001b[0m \u001b[1m10s\u001b[0m 4ms/step - accuracy: 0.9958 - loss: 0.0128\n"
          ]
        },
        {
          "output_type": "execute_result",
          "data": {
            "text/plain": [
              "<keras.src.callbacks.history.History at 0x7ff7af17f9a0>"
            ]
          },
          "metadata": {},
          "execution_count": 39
        }
      ]
    },
    {
      "cell_type": "code",
      "source": [
        "#check model accuracy and loss on test set\n",
        "val_loss,val_acc = model.evaluate(x_test,y_test) # evalute ka function defined hai tensorflow me\n",
        "print(\"loss: \",val_loss,\"\\nacc: \",val_acc)"
      ],
      "metadata": {
        "colab": {
          "base_uri": "https://localhost:8080/"
        },
        "id": "6bJdJNOZCQrH",
        "outputId": "e869885d-3cdf-47bf-9685-7dd9d62e4cf1"
      },
      "execution_count": null,
      "outputs": [
        {
          "output_type": "stream",
          "name": "stdout",
          "text": [
            "\u001b[1m313/313\u001b[0m \u001b[32m━━━━━━━━━━━━━━━━━━━━\u001b[0m\u001b[37m\u001b[0m \u001b[1m1s\u001b[0m 2ms/step - accuracy: 0.9741 - loss: 0.1231\n",
            "loss:  0.10632398724555969 \n",
            "acc:  0.9765999913215637\n"
          ]
        }
      ]
    },
    {
      "cell_type": "code",
      "source": [
        "#Predictions using Model\n",
        "predictions=model.predict([x_test])\n",
        "print('label:',y_test[1])\n",
        "print('prediction:',np.argmax(predictions[1]))\n",
        "draw(x_test[1])"
      ],
      "metadata": {
        "colab": {
          "base_uri": "https://localhost:8080/",
          "height": 482
        },
        "id": "TfFF8VVICWP5",
        "outputId": "5ffbd1ec-3e37-4633-842e-7e1776d5270f"
      },
      "execution_count": null,
      "outputs": [
        {
          "output_type": "stream",
          "name": "stdout",
          "text": [
            "\u001b[1m313/313\u001b[0m \u001b[32m━━━━━━━━━━━━━━━━━━━━\u001b[0m\u001b[37m\u001b[0m \u001b[1m1s\u001b[0m 3ms/step\n",
            "label: 2\n",
            "prediction: 2\n"
          ]
        },
        {
          "output_type": "display_data",
          "data": {
            "text/plain": [
              "<Figure size 640x480 with 1 Axes>"
            ],
            "image/png": "[encoded data removed]"
          },
          "metadata": {}
        }
      ]
    },
    {
      "cell_type": "code",
      "source": [
        "#saving model\n",
        "model.save('my_model.keras')  # This will create a SavedModel directory with the model files\n"
      ],
      "metadata": {
        "id": "L1Od2O9_CmGM"
      },
      "execution_count": null,
      "outputs": []
    },
    {
      "cell_type": "code",
      "source": [
        "#load saved model\n",
        "new_model = tf.keras.models.load_model('my_model.keras')"
      ],
      "metadata": {
        "id": "yoOVukDPCn_T"
      },
      "execution_count": null,
      "outputs": []
    },
    {
      "cell_type": "code",
      "source": [
        "#Prediction using new model\n",
        "predictions=new_model.predict([x_test])\n",
        "print('label',y_test[3])\n",
        "print('prediction',np.argmax(predictions[3]))\n",
        "draw(x_test[3])"
      ],
      "metadata": {
        "colab": {
          "base_uri": "https://localhost:8080/",
          "height": 482
        },
        "id": "v7SIEs0LCrh2",
        "outputId": "70c09983-7d8f-4c3c-9e50-919c63da197f"
      },
      "execution_count": null,
      "outputs": [
        {
          "output_type": "stream",
          "name": "stdout",
          "text": [
            "\u001b[1m313/313\u001b[0m \u001b[32m━━━━━━━━━━━━━━━━━━━━\u001b[0m\u001b[37m\u001b[0m \u001b[1m1s\u001b[0m 4ms/step\n",
            "label 0\n",
            "prediction 0\n"
          ]
        },
        {
          "output_type": "display_data",
          "data": {
            "text/plain": [
              "<Figure size 640x480 with 1 Axes>"
            ],
            "image/png": "[encoded data removed]"
          },
          "metadata": {}
        }
      ]
    },
    {
      "cell_type": "code",
      "source": [],
      "metadata": {
        "id": "LhRUnyClC1T4"
      },
      "execution_count": null,
      "outputs": []
    }
  ]
}